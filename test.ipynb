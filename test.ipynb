{
 "cells": [
  {
   "cell_type": "code",
   "execution_count": 2,
   "metadata": {},
   "outputs": [],
   "source": [
    "import torch\n",
    "import torch.nn.functional as F\n",
    "import torch_geometric as tg\n",
    "from torch_geometric.nn import knn_graph, fps, knn\n",
    "from torch_geometric.data import Data\n",
    "import torch_geometric.io as tgio\n",
    "from torch_geometric.io import read_off, read_ply\n",
    "from torch_geometric.transforms import SamplePoints, NormalizeScale\n",
    "import os, sys, time, random\n",
    "import numpy as np\n",
    "import pptk\n"
   ]
  },
  {
   "cell_type": "code",
   "execution_count": 2,
   "metadata": {},
   "outputs": [],
   "source": [
    "def process_ply(ply_path: str, n_patch: int = 100):\n",
    "    r\"\"\"\n",
    "    Processes PLY file from path, convert to PC\n",
    "    \"\"\"\n",
    "    mesh_data = read_ply(ply_path)\n",
    "    print(mesh_data)\n",
    "    # pc = SamplePoints(num=2048 * n_patch)(mesh_data).pos\n",
    "    pc = mesh_data.pos\n",
    "    n_pts = pc.shape[0]\n",
    "    # select N kernels: [N, ]\n",
    "    patch_kernel = fps(pc, ratio=n_patch / n_pts + 1e-6)\n",
    "    # select N patches: [N, 2048]\n",
    "    patches = knn(pc[patch_kernel], pc, k=2048, num_workers=16)\n",
    "    return pc[patches] # [N, 2048, F]"
   ]
  },
  {
   "cell_type": "code",
   "execution_count": 20,
   "metadata": {},
   "outputs": [
    {
     "data": {
      "text/plain": [
       "'/data/pkurei/mpeg/dataset/longdress/Ply/longdress_vox10_1099.ply'"
      ]
     },
     "execution_count": 20,
     "metadata": {},
     "output_type": "execute_result"
    }
   ],
   "source": [
    "dataset_path = '/data/pkurei/mpeg/dataset'\n",
    "ply=os.path.join(dataset_path, 'longdress', 'Ply', 'longdress_vox10_1099.ply')\n",
    "ply"
   ]
  },
  {
   "cell_type": "code",
   "execution_count": 4,
   "metadata": {},
   "outputs": [
    {
     "name": "stdout",
     "output_type": "stream",
     "text": [
      "Data(face=[0], pos=[765821, 3])\n"
     ]
    }
   ],
   "source": [
    "res=process_ply(ply_path=ply)"
   ]
  },
  {
   "cell_type": "code",
   "execution_count": 6,
   "metadata": {},
   "outputs": [
    {
     "data": {
      "text/plain": [
       "torch.Size([2, 77347921, 3])"
      ]
     },
     "execution_count": 6,
     "metadata": {},
     "output_type": "execute_result"
    }
   ],
   "source": [
    "res.shape"
   ]
  },
  {
   "cell_type": "code",
   "execution_count": 17,
   "metadata": {},
   "outputs": [
    {
     "ename": "AttributeError",
     "evalue": "'openmesh.TriMesh' object has no attribute 'colors'",
     "output_type": "error",
     "traceback": [
      "\u001b[0;31m---------------------------------------------------------------------------\u001b[0m",
      "\u001b[0;31mAttributeError\u001b[0m                            Traceback (most recent call last)",
      "\u001b[0;32m<ipython-input-17-a161ac0d78da>\u001b[0m in \u001b[0;36m<module>\u001b[0;34m\u001b[0m\n\u001b[1;32m      7\u001b[0m \u001b[0mmesh\u001b[0m \u001b[0;34m=\u001b[0m \u001b[0mopenmesh\u001b[0m\u001b[0;34m.\u001b[0m\u001b[0mread_trimesh\u001b[0m\u001b[0;34m(\u001b[0m\u001b[0mply\u001b[0m\u001b[0;34m)\u001b[0m\u001b[0;34m\u001b[0m\u001b[0;34m\u001b[0m\u001b[0m\n\u001b[1;32m      8\u001b[0m \u001b[0mmesh\u001b[0m\u001b[0;34m.\u001b[0m\u001b[0mpoints\u001b[0m\u001b[0;34m(\u001b[0m\u001b[0;34m)\u001b[0m\u001b[0;34m\u001b[0m\u001b[0;34m\u001b[0m\u001b[0m\n\u001b[0;32m----> 9\u001b[0;31m \u001b[0mmesh\u001b[0m\u001b[0;34m.\u001b[0m\u001b[0mcolors\u001b[0m\u001b[0;34m(\u001b[0m\u001b[0;34m)\u001b[0m\u001b[0;34m\u001b[0m\u001b[0;34m\u001b[0m\u001b[0m\n\u001b[0m",
      "\u001b[0;31mAttributeError\u001b[0m: 'openmesh.TriMesh' object has no attribute 'colors'"
     ]
    }
   ],
   "source": [
    "import openmesh\n",
    "from openmesh import *\n",
    "# option=Options()\n",
    "# option += openmesh.Options.vertexColor\n",
    "mesh = openmesh.TriMesh()\n",
    "mesh.request_vertex_colors()\n",
    "mesh = openmesh.read_trimesh(ply)\n",
    "mesh.points()"
   ]
  },
  {
   "cell_type": "code",
   "execution_count": 21,
   "metadata": {},
   "outputs": [
    {
     "name": "stdout",
     "output_type": "stream",
     "text": [
      "0\n",
      "[1.4784527e+00 3.0907039e-41 3.0325372e-15 4.5765007e-41]\n",
      "10000\n",
      "[0.        3.171875  0.        3.6757812]\n",
      "20000\n",
      "[0.        3.3515625 0.        3.3789062]\n",
      "30000\n",
      "[0.        3.7226562 0.        3.1328125]\n",
      "40000\n",
      "[0.        3.6777344 0.        3.7050781]\n",
      "50000\n",
      "[0.        3.5546875 0.        3.0703125]\n",
      "60000\n",
      "[0.        3.7226562 0.        3.5097656]\n",
      "70000\n",
      "[0.        2.921875  0.        3.7089844]\n",
      "80000\n",
      "[0.        3.6972656 0.        3.3867188]\n",
      "90000\n",
      "[0.        3.6855469 0.        3.5      ]\n",
      "100000\n",
      "[0.        3.7304688 0.        3.6835938]\n",
      "110000\n",
      "[0.        3.3828125 0.        3.7509766]\n",
      "120000\n",
      "[0.        3.4960938 0.        3.9707031]\n",
      "130000\n",
      "[0.        3.234375  0.        3.6914062]\n",
      "140000\n",
      "[0.        3.7910156 0.        3.4960938]\n",
      "150000\n",
      "[0.        3.6835938 0.        3.8134766]\n",
      "160000\n",
      "[0.        3.4726562 0.        3.6875   ]\n",
      "170000\n",
      "[0.        3.7783203 0.        3.6367188]\n",
      "180000\n",
      "[0.        3.6914062 0.        3.8632812]\n",
      "190000\n",
      "[0.        3.6894531 0.        3.6992188]\n",
      "200000\n",
      "[0.        3.9873047 0.        3.15625  ]\n",
      "210000\n",
      "[0.        3.5996094 0.        3.9511719]\n",
      "220000\n",
      "[0.        3.4335938 0.        3.6523438]\n",
      "230000\n",
      "[0.        3.9882812 0.        3.1875   ]\n",
      "240000\n",
      "[0.        3.59375   0.        3.9189453]\n",
      "250000\n",
      "[0.        3.5117188 0.        3.5488281]\n",
      "260000\n",
      "[0.        3.9482422 0.        3.6464844]\n",
      "270000\n",
      "[0.        3.6484375 0.        3.8935547]\n",
      "280000\n",
      "[0.        3.7441406 0.        3.7207031]\n",
      "290000\n",
      "[0.        3.8144531 0.        3.7685547]\n",
      "300000\n",
      "[0.        3.6601562 0.        3.881836 ]\n",
      "310000\n",
      "[0.        3.756836  0.        3.6835938]\n",
      "320000\n",
      "[0.        2.8125    0.        3.5273438]\n",
      "330000\n",
      "[0.        3.7529297 0.        3.390625 ]\n",
      "340000\n",
      "[0.        3.3203125 0.        3.7685547]\n",
      "350000\n",
      "[0.        3.6582031 0.        2.96875  ]\n",
      "360000\n",
      "[0.        3.7802734 0.        3.7070312]\n",
      "370000\n",
      "[0.        3.5292969 0.        3.8115234]\n",
      "380000\n",
      "[0.        3.546875  0.        3.6386719]\n",
      "390000\n",
      "[0.        3.7548828 0.        3.7089844]\n",
      "400000\n",
      "[0.        3.5683594 0.        3.7919922]\n",
      "410000\n",
      "[0.        3.7382812 0.        3.6464844]\n",
      "420000\n",
      "[0.        3.765625  0.        3.6914062]\n",
      "430000\n",
      "[0.        3.3476562 0.        3.7773438]\n",
      "440000\n",
      "[0.        3.8496094 0.        3.3125   ]\n",
      "450000\n",
      "[0.        3.8144531 0.        3.8496094]\n",
      "460000\n",
      "[0.        3.609375  0.        3.7929688]\n",
      "470000\n",
      "[0.        3.8320312 0.        3.5117188]\n",
      "480000\n",
      "[0.       3.772461 0.       3.821289]\n",
      "490000\n",
      "[0.        3.3007812 0.        3.7529297]\n",
      "500000\n",
      "[0.       3.993164 0.       3.28125 ]\n",
      "510000\n",
      "[0.       3.821289 0.       3.946289]\n",
      "520000\n",
      "[0.        3.5585938 0.        3.7998047]\n",
      "530000\n",
      "[0.        3.9169922 0.        3.703125 ]\n",
      "540000\n",
      "[0.        3.7646484 0.        3.9550781]\n",
      "550000\n",
      "[0.        3.5097656 0.        3.828125 ]\n",
      "560000\n",
      "[0.        3.7998047 0.        3.7822266]\n",
      "570000\n",
      "[0.        3.7705078 0.        3.883789 ]\n",
      "580000\n",
      "[0.        3.3867188 0.        3.4648438]\n",
      "590000\n",
      "[0.        4.1591797 0.        3.3476562]\n",
      "600000\n",
      "[0.        3.4257812 0.        4.236328 ]\n",
      "610000\n",
      "[0.        3.2617188 0.        3.5410156]\n",
      "620000\n",
      "[0.        4.0683594 0.        3.2265625]\n",
      "630000\n",
      "[0.        3.5605469 0.        4.0742188]\n",
      "640000\n",
      "[0.        3.0390625 0.        3.6367188]\n",
      "650000\n",
      "[0.        4.0898438 0.        3.2265625]\n",
      "660000\n",
      "[0.        3.7480469 0.        4.111328 ]\n",
      "670000\n",
      "[0.        3.6445312 0.        3.5664062]\n",
      "680000\n",
      "[0.        4.086914  0.        3.6132812]\n",
      "690000\n",
      "[0.        3.6582031 0.        4.040039 ]\n",
      "700000\n",
      "[0.        3.6699219 0.        3.7070312]\n",
      "710000\n",
      "[0.        4.1435547 0.        3.3164062]\n",
      "720000\n",
      "[0.        3.5117188 0.        4.189453 ]\n",
      "730000\n",
      "[0.        3.1015625 0.        3.6523438]\n",
      "740000\n",
      "[0.        4.2070312 0.        3.1796875]\n",
      "750000\n",
      "[0.        3.5253906 0.        4.1708984]\n",
      "760000\n",
      "[0.        3.6582031 0.        3.6230469]\n"
     ]
    }
   ],
   "source": [
    "for vh in mesh.vertices():\n",
    "    if(vh.idx() % 10000 == 0):\n",
    "        print(vh.idx())\n",
    "        print(mesh.color(vh))\n",
    "        "
   ]
  },
  {
   "cell_type": "code",
   "execution_count": 34,
   "metadata": {},
   "outputs": [
    {
     "ename": "AttributeError",
     "evalue": "'openmesh.TriMesh' object has no attribute 'update_colors'",
     "output_type": "error",
     "traceback": [
      "\u001b[0;31m---------------------------------------------------------------------------\u001b[0m",
      "\u001b[0;31mAttributeError\u001b[0m                            Traceback (most recent call last)",
      "\u001b[0;32m<ipython-input-34-4ef699c09079>\u001b[0m in \u001b[0;36m<module>\u001b[0;34m\u001b[0m\n\u001b[1;32m      1\u001b[0m \u001b[0mmesh\u001b[0m\u001b[0;34m.\u001b[0m\u001b[0mrequest_vertex_colors\u001b[0m\u001b[0;34m(\u001b[0m\u001b[0;34m)\u001b[0m\u001b[0;34m\u001b[0m\u001b[0;34m\u001b[0m\u001b[0m\n\u001b[0;32m----> 2\u001b[0;31m \u001b[0mmesh\u001b[0m\u001b[0;34m.\u001b[0m\u001b[0mupdate_colors\u001b[0m\u001b[0;34m(\u001b[0m\u001b[0;34m)\u001b[0m\u001b[0;34m\u001b[0m\u001b[0;34m\u001b[0m\u001b[0m\n\u001b[0m",
      "\u001b[0;31mAttributeError\u001b[0m: 'openmesh.TriMesh' object has no attribute 'update_colors'"
     ]
    }
   ],
   "source": [
    "mesh.request_vertex_colors()\n",
    "mesh.update_colors()"
   ]
  },
  {
   "cell_type": "code",
   "execution_count": 13,
   "metadata": {},
   "outputs": [
    {
     "data": {
      "text/plain": [
       "['BaseHandle',\n",
       " 'EdgeHandle',\n",
       " 'EdgeIter',\n",
       " 'FaceEdgeIter',\n",
       " 'FaceFaceIter',\n",
       " 'FaceHalfedgeIter',\n",
       " 'FaceHandle',\n",
       " 'FaceIter',\n",
       " 'FaceVertexIter',\n",
       " 'HalfedgeHandle',\n",
       " 'HalfedgeIter',\n",
       " 'HalfedgeLoopIter',\n",
       " 'PolyMesh',\n",
       " 'PolyMeshDecimater',\n",
       " 'PolyMeshModAspectRatio',\n",
       " 'PolyMeshModAspectRatioHandle',\n",
       " 'PolyMeshModBase',\n",
       " 'PolyMeshModEdgeLength',\n",
       " 'PolyMeshModEdgeLengthHandle',\n",
       " 'PolyMeshModHausdorff',\n",
       " 'PolyMeshModHausdorffHandle',\n",
       " 'PolyMeshModIndependentSets',\n",
       " 'PolyMeshModIndependentSetsHandle',\n",
       " 'PolyMeshModNormalDeviation',\n",
       " 'PolyMeshModNormalDeviationHandle',\n",
       " 'PolyMeshModNormalFlipping',\n",
       " 'PolyMeshModNormalFlippingHandle',\n",
       " 'PolyMeshModProgMesh',\n",
       " 'PolyMeshModProgMeshHandle',\n",
       " 'PolyMeshModProgMeshInfo',\n",
       " 'PolyMeshModQuadric',\n",
       " 'PolyMeshModQuadricHandle',\n",
       " 'PolyMeshModRoundness',\n",
       " 'PolyMeshModRoundnessHandle',\n",
       " 'TriMesh',\n",
       " 'TriMeshDecimater',\n",
       " 'TriMeshModAspectRatio',\n",
       " 'TriMeshModAspectRatioHandle',\n",
       " 'TriMeshModBase',\n",
       " 'TriMeshModEdgeLength',\n",
       " 'TriMeshModEdgeLengthHandle',\n",
       " 'TriMeshModHausdorff',\n",
       " 'TriMeshModHausdorffHandle',\n",
       " 'TriMeshModIndependentSets',\n",
       " 'TriMeshModIndependentSetsHandle',\n",
       " 'TriMeshModNormalDeviation',\n",
       " 'TriMeshModNormalDeviationHandle',\n",
       " 'TriMeshModNormalFlipping',\n",
       " 'TriMeshModNormalFlippingHandle',\n",
       " 'TriMeshModProgMesh',\n",
       " 'TriMeshModProgMeshHandle',\n",
       " 'TriMeshModProgMeshInfo',\n",
       " 'TriMeshModQuadric',\n",
       " 'TriMeshModQuadricHandle',\n",
       " 'TriMeshModRoundness',\n",
       " 'TriMeshModRoundnessHandle',\n",
       " 'VertexEdgeIter',\n",
       " 'VertexFaceIter',\n",
       " 'VertexHandle',\n",
       " 'VertexIHalfedgeIter',\n",
       " 'VertexIter',\n",
       " 'VertexOHalfedgeIter',\n",
       " 'VertexVertexIter',\n",
       " '__doc__',\n",
       " '__file__',\n",
       " '__loader__',\n",
       " '__name__',\n",
       " '__package__',\n",
       " '__spec__',\n",
       " 'read_polymesh',\n",
       " 'read_trimesh',\n",
       " 'write_mesh']"
      ]
     },
     "execution_count": 13,
     "metadata": {},
     "output_type": "execute_result"
    }
   ],
   "source": [
    "dir(openmesh)"
   ]
  },
  {
   "cell_type": "code",
   "execution_count": 22,
   "metadata": {},
   "outputs": [],
   "source": [
    "from plyfile import PlyData, PlyElement"
   ]
  },
  {
   "cell_type": "code",
   "execution_count": 24,
   "metadata": {},
   "outputs": [],
   "source": [
    "mesh=PlyData.read(ply)"
   ]
  },
  {
   "cell_type": "code",
   "execution_count": 53,
   "metadata": {},
   "outputs": [
    {
     "data": {
      "text/plain": [
       "(824064,)"
      ]
     },
     "execution_count": 53,
     "metadata": {},
     "output_type": "execute_result"
    }
   ],
   "source": [
    "mesh.elements[0].data['red'].shape"
   ]
  },
  {
   "cell_type": "code",
   "execution_count": 41,
   "metadata": {},
   "outputs": [
    {
     "data": {
      "text/plain": [
       "PlyElement('vertex', (PlyProperty('x', 'float'), PlyProperty('y', 'float'), PlyProperty('z', 'float'), PlyProperty('red', 'uchar'), PlyProperty('green', 'uchar'), PlyProperty('blue', 'uchar')), count=824064, comments=[])"
      ]
     },
     "execution_count": 41,
     "metadata": {},
     "output_type": "execute_result"
    }
   ],
   "source": [
    "mesh.elements[0]"
   ]
  },
  {
   "cell_type": "code",
   "execution_count": 45,
   "metadata": {},
   "outputs": [
    {
     "data": {
      "text/plain": [
       "array([(231.,  14., 411., 124,  85,  64),\n",
       "       (231.,  15., 411., 127,  86,  65),\n",
       "       (231.,  13., 412., 118,  83,  63), ...,\n",
       "       (320., 785., 513., 163, 150, 144),\n",
       "       (320., 786., 512., 156, 146, 143),\n",
       "       (320., 787., 512., 139, 130, 126)],\n",
       "      dtype=[('x', '<f4'), ('y', '<f4'), ('z', '<f4'), ('red', 'u1'), ('green', 'u1'), ('blue', 'u1')])"
      ]
     },
     "execution_count": 45,
     "metadata": {},
     "output_type": "execute_result"
    }
   ],
   "source": [
    "mesh.elements[0].data"
   ]
  },
  {
   "cell_type": "code",
   "execution_count": 48,
   "metadata": {},
   "outputs": [],
   "source": [
    "a=torch.randn([1000,3])"
   ]
  },
  {
   "cell_type": "code",
   "execution_count": 50,
   "metadata": {},
   "outputs": [
    {
     "data": {
      "text/plain": [
       "torch.int64"
      ]
     },
     "execution_count": 50,
     "metadata": {},
     "output_type": "execute_result"
    }
   ],
   "source": [
    "a.to(torch.long).dtype"
   ]
  },
  {
   "cell_type": "code",
   "execution_count": 52,
   "metadata": {},
   "outputs": [
    {
     "data": {
      "text/plain": [
       "torch.float32"
      ]
     },
     "execution_count": 52,
     "metadata": {},
     "output_type": "execute_result"
    }
   ],
   "source": [
    "torch.float32"
   ]
  },
  {
   "cell_type": "code",
   "execution_count": 55,
   "metadata": {},
   "outputs": [
    {
     "data": {
      "text/plain": [
       "402.375"
      ]
     },
     "execution_count": 55,
     "metadata": {},
     "output_type": "execute_result"
    }
   ],
   "source": [
    "824064/2048"
   ]
  },
  {
   "cell_type": "code",
   "execution_count": 63,
   "metadata": {},
   "outputs": [],
   "source": [
    "a=torch.from_numpy(mesh.elements[0].data['x'].copy())"
   ]
  },
  {
   "cell_type": "code",
   "execution_count": 64,
   "metadata": {},
   "outputs": [
    {
     "data": {
      "text/plain": [
       "torch.Size([824064])"
      ]
     },
     "execution_count": 64,
     "metadata": {},
     "output_type": "execute_result"
    }
   ],
   "source": [
    "a.shape"
   ]
  },
  {
   "cell_type": "code",
   "execution_count": 71,
   "metadata": {},
   "outputs": [],
   "source": [
    "x=torch.randn([1000,3])"
   ]
  },
  {
   "cell_type": "code",
   "execution_count": 72,
   "metadata": {},
   "outputs": [],
   "source": [
    "y=x[torch.randperm(len(x))[:10]]"
   ]
  },
  {
   "cell_type": "code",
   "execution_count": 74,
   "metadata": {},
   "outputs": [
    {
     "data": {
      "text/plain": [
       "torch.Size([10, 3])"
      ]
     },
     "execution_count": 74,
     "metadata": {},
     "output_type": "execute_result"
    }
   ],
   "source": [
    "y.shape"
   ]
  },
  {
   "cell_type": "code",
   "execution_count": 75,
   "metadata": {},
   "outputs": [],
   "source": [
    "from torch_geometric.nn import knn"
   ]
  },
  {
   "cell_type": "code",
   "execution_count": 87,
   "metadata": {},
   "outputs": [
    {
     "data": {
      "text/plain": [
       "torch.Size([2, 110])"
      ]
     },
     "execution_count": 87,
     "metadata": {},
     "output_type": "execute_result"
    }
   ],
   "source": [
    "res=knn(x,y,k=11)\n",
    "res.shape"
   ]
  },
  {
   "cell_type": "code",
   "execution_count": 86,
   "metadata": {},
   "outputs": [
    {
     "data": {
      "text/plain": [
       "torch.Size([10, 11, 2])"
      ]
     },
     "execution_count": 86,
     "metadata": {},
     "output_type": "execute_result"
    }
   ],
   "source": [
    "torch.einsum('ijk->jki',res.reshape(2, 10, 11)).shape"
   ]
  },
  {
   "cell_type": "code",
   "execution_count": 92,
   "metadata": {},
   "outputs": [
    {
     "data": {
      "text/plain": [
       "tensor([[758, 447, 618, 662,  32, 311,  68, 633, 191, 403, 982],\n",
       "        [257,  42, 592, 551, 765, 400, 933, 577, 568, 831, 176],\n",
       "        [314, 266, 696, 452, 936, 464, 462, 676, 938, 587, 824],\n",
       "        [423, 399,  78, 893, 601, 918, 748, 586, 486, 396, 267],\n",
       "        [455, 581, 491, 126, 804, 177, 239, 494, 657, 782, 829],\n",
       "        [260, 990, 331, 282, 912, 322, 989, 553, 469, 431, 156],\n",
       "        [577, 592, 400,  60, 831, 701,  38, 933, 629,   8, 176],\n",
       "        [648, 185, 759, 913, 181, 379, 868, 928, 799, 643, 355],\n",
       "        [467, 548, 453,  52, 143, 680, 536, 876, 398,  15, 159],\n",
       "        [180, 621, 461, 601, 937, 393, 483, 348, 739, 837, 893]])"
      ]
     },
     "execution_count": 92,
     "metadata": {},
     "output_type": "execute_result"
    }
   ],
   "source": [
    "res[1].reshape([10,11])"
   ]
  },
  {
   "cell_type": "code",
   "execution_count": null,
   "metadata": {},
   "outputs": [],
   "source": []
  }
 ],
 "metadata": {
  "kernelspec": {
   "display_name": "rei",
   "language": "python",
   "name": "rei"
  },
  "language_info": {
   "codemirror_mode": {
    "name": "ipython",
    "version": 3
   },
   "file_extension": ".py",
   "mimetype": "text/x-python",
   "name": "python",
   "nbconvert_exporter": "python",
   "pygments_lexer": "ipython3",
   "version": "3.7.9"
  }
 },
 "nbformat": 4,
 "nbformat_minor": 4
}
