{
 "cells": [
  {
   "cell_type": "code",
   "execution_count": 1,
   "metadata": {},
   "outputs": [],
   "source": [
    "import torch\n",
    "import torch.nn.functional as F\n",
    "import torch_geometric as tg\n",
    "from torch_geometric.nn import knn_graph, fps, knn\n",
    "from torch_geometric.data import Data\n",
    "import torch_geometric.io as tgio\n",
    "from torch_geometric.io import read_off, read_ply\n",
    "from torch_geometric.transforms import SamplePoints, NormalizeScale\n",
    "import os, sys, time, random\n",
    "import numpy as np\n",
    "import pptk\n"
   ]
  },
  {
   "cell_type": "code",
   "execution_count": 3,
   "metadata": {},
   "outputs": [
    {
     "data": {
      "text/plain": [
       "'/data/pkurei/mpeg/dataset/longdress/Ply/longdress_vox10_1099.ply'"
      ]
     },
     "execution_count": 3,
     "metadata": {},
     "output_type": "execute_result"
    }
   ],
   "source": [
    "dataset_path = '/data/pkurei/mpeg/dataset'\n",
    "ply=os.path.join(dataset_path, 'longdress', 'Ply', 'longdress_vox10_1099.ply')\n",
    "ply"
   ]
  },
  {
   "cell_type": "code",
   "execution_count": 4,
   "metadata": {},
   "outputs": [
    {
     "name": "stdout",
     "output_type": "stream",
     "text": [
      "Data(face=[0], pos=[765821, 3])\n"
     ]
    }
   ],
   "source": [
    "res=process_ply(ply_path=ply)"
   ]
  },
  {
   "cell_type": "code",
   "execution_count": 6,
   "metadata": {},
   "outputs": [
    {
     "data": {
      "text/plain": [
       "torch.Size([2, 77347921, 3])"
      ]
     },
     "execution_count": 6,
     "metadata": {},
     "output_type": "execute_result"
    }
   ],
   "source": [
    "res.shape"
   ]
  },
  {
   "cell_type": "code",
   "execution_count": 22,
   "metadata": {},
   "outputs": [],
   "source": [
    "from plyfile import PlyData, PlyElement"
   ]
  },
  {
   "cell_type": "code",
   "execution_count": 24,
   "metadata": {},
   "outputs": [],
   "source": [
    "mesh=PlyData.read(ply)"
   ]
  },
  {
   "cell_type": "code",
   "execution_count": 53,
   "metadata": {},
   "outputs": [
    {
     "data": {
      "text/plain": [
       "(824064,)"
      ]
     },
     "execution_count": 53,
     "metadata": {},
     "output_type": "execute_result"
    }
   ],
   "source": [
    "mesh.elements[0].data['red'].shape"
   ]
  },
  {
   "cell_type": "code",
   "execution_count": 41,
   "metadata": {},
   "outputs": [
    {
     "data": {
      "text/plain": [
       "PlyElement('vertex', (PlyProperty('x', 'float'), PlyProperty('y', 'float'), PlyProperty('z', 'float'), PlyProperty('red', 'uchar'), PlyProperty('green', 'uchar'), PlyProperty('blue', 'uchar')), count=824064, comments=[])"
      ]
     },
     "execution_count": 41,
     "metadata": {},
     "output_type": "execute_result"
    }
   ],
   "source": [
    "mesh.elements[0]"
   ]
  },
  {
   "cell_type": "code",
   "execution_count": 45,
   "metadata": {},
   "outputs": [
    {
     "data": {
      "text/plain": [
       "array([(231.,  14., 411., 124,  85,  64),\n",
       "       (231.,  15., 411., 127,  86,  65),\n",
       "       (231.,  13., 412., 118,  83,  63), ...,\n",
       "       (320., 785., 513., 163, 150, 144),\n",
       "       (320., 786., 512., 156, 146, 143),\n",
       "       (320., 787., 512., 139, 130, 126)],\n",
       "      dtype=[('x', '<f4'), ('y', '<f4'), ('z', '<f4'), ('red', 'u1'), ('green', 'u1'), ('blue', 'u1')])"
      ]
     },
     "execution_count": 45,
     "metadata": {},
     "output_type": "execute_result"
    }
   ],
   "source": [
    "mesh.elements[0].data"
   ]
  },
  {
   "cell_type": "code",
   "execution_count": 48,
   "metadata": {},
   "outputs": [],
   "source": [
    "a=torch.randn([1000,3])"
   ]
  },
  {
   "cell_type": "code",
   "execution_count": 50,
   "metadata": {},
   "outputs": [
    {
     "data": {
      "text/plain": [
       "torch.int64"
      ]
     },
     "execution_count": 50,
     "metadata": {},
     "output_type": "execute_result"
    }
   ],
   "source": [
    "a.to(torch.long).dtype"
   ]
  },
  {
   "cell_type": "code",
   "execution_count": 52,
   "metadata": {},
   "outputs": [
    {
     "data": {
      "text/plain": [
       "torch.float32"
      ]
     },
     "execution_count": 52,
     "metadata": {},
     "output_type": "execute_result"
    }
   ],
   "source": [
    "torch.float32"
   ]
  },
  {
   "cell_type": "code",
   "execution_count": 55,
   "metadata": {},
   "outputs": [
    {
     "data": {
      "text/plain": [
       "402.375"
      ]
     },
     "execution_count": 55,
     "metadata": {},
     "output_type": "execute_result"
    }
   ],
   "source": [
    "824064/2048"
   ]
  },
  {
   "cell_type": "code",
   "execution_count": 63,
   "metadata": {},
   "outputs": [],
   "source": [
    "a=torch.from_numpy(mesh.elements[0].data['x'].copy())"
   ]
  },
  {
   "cell_type": "code",
   "execution_count": 64,
   "metadata": {},
   "outputs": [
    {
     "data": {
      "text/plain": [
       "torch.Size([824064])"
      ]
     },
     "execution_count": 64,
     "metadata": {},
     "output_type": "execute_result"
    }
   ],
   "source": [
    "a.shape"
   ]
  },
  {
   "cell_type": "code",
   "execution_count": 71,
   "metadata": {},
   "outputs": [],
   "source": [
    "x=torch.randn([1000,3])"
   ]
  },
  {
   "cell_type": "code",
   "execution_count": 72,
   "metadata": {},
   "outputs": [],
   "source": [
    "y=x[torch.randperm(len(x))[:10]]"
   ]
  },
  {
   "cell_type": "code",
   "execution_count": 74,
   "metadata": {},
   "outputs": [
    {
     "data": {
      "text/plain": [
       "torch.Size([10, 3])"
      ]
     },
     "execution_count": 74,
     "metadata": {},
     "output_type": "execute_result"
    }
   ],
   "source": [
    "y.shape"
   ]
  },
  {
   "cell_type": "code",
   "execution_count": 75,
   "metadata": {},
   "outputs": [],
   "source": [
    "from torch_geometric.nn import knn"
   ]
  },
  {
   "cell_type": "code",
   "execution_count": 87,
   "metadata": {},
   "outputs": [
    {
     "data": {
      "text/plain": [
       "torch.Size([2, 110])"
      ]
     },
     "execution_count": 87,
     "metadata": {},
     "output_type": "execute_result"
    }
   ],
   "source": [
    "res=knn(x,y,k=11)\n",
    "res.shape"
   ]
  },
  {
   "cell_type": "code",
   "execution_count": 86,
   "metadata": {},
   "outputs": [
    {
     "data": {
      "text/plain": [
       "torch.Size([10, 11, 2])"
      ]
     },
     "execution_count": 86,
     "metadata": {},
     "output_type": "execute_result"
    }
   ],
   "source": [
    "torch.einsum('ijk->jki',res.reshape(2, 10, 11)).shape"
   ]
  },
  {
   "cell_type": "code",
   "execution_count": 92,
   "metadata": {},
   "outputs": [
    {
     "data": {
      "text/plain": [
       "tensor([[758, 447, 618, 662,  32, 311,  68, 633, 191, 403, 982],\n",
       "        [257,  42, 592, 551, 765, 400, 933, 577, 568, 831, 176],\n",
       "        [314, 266, 696, 452, 936, 464, 462, 676, 938, 587, 824],\n",
       "        [423, 399,  78, 893, 601, 918, 748, 586, 486, 396, 267],\n",
       "        [455, 581, 491, 126, 804, 177, 239, 494, 657, 782, 829],\n",
       "        [260, 990, 331, 282, 912, 322, 989, 553, 469, 431, 156],\n",
       "        [577, 592, 400,  60, 831, 701,  38, 933, 629,   8, 176],\n",
       "        [648, 185, 759, 913, 181, 379, 868, 928, 799, 643, 355],\n",
       "        [467, 548, 453,  52, 143, 680, 536, 876, 398,  15, 159],\n",
       "        [180, 621, 461, 601, 937, 393, 483, 348, 739, 837, 893]])"
      ]
     },
     "execution_count": 92,
     "metadata": {},
     "output_type": "execute_result"
    }
   ],
   "source": [
    "res[1].reshape([10,11])"
   ]
  },
  {
   "cell_type": "code",
   "execution_count": 4,
   "metadata": {},
   "outputs": [
    {
     "data": {
      "text/plain": [
       "1.0"
      ]
     },
     "execution_count": 4,
     "metadata": {},
     "output_type": "execute_result"
    }
   ],
   "source": [
    "np.floor(1.1)"
   ]
  },
  {
   "cell_type": "code",
   "execution_count": 7,
   "metadata": {},
   "outputs": [
    {
     "name": "stdout",
     "output_type": "stream",
     "text": [
      "('/data/pkurei/mpeg/dataset/longdress/Ply', [], ['longdress_vox10_1230.ply', 'longdress_vox10_1199.ply', 'longdress_vox10_1117.ply', 'longdress_vox10_1086.ply', 'longdress_vox10_1102.ply', 'longdress_vox10_1090.ply', 'longdress_vox10_1138.ply', 'longdress_vox10_1063.ply', 'longdress_vox10_1198.ply', 'longdress_vox10_1298.ply', 'longdress_vox10_1331.ply', 'longdress_vox10_1097.ply', 'longdress_vox10_1292.ply', 'longdress_vox10_1131.ply', 'longdress_vox10_1293.ply', 'longdress_vox10_1270.ply', 'longdress_vox10_1111.ply', 'longdress_vox10_1083.ply', 'longdress_vox10_1326.ply', 'longdress_vox10_1088.ply', 'longdress_vox10_1070.ply', 'longdress_vox10_1303.ply', 'longdress_vox10_1234.ply', 'longdress_vox10_1156.ply', 'longdress_vox10_1284.ply', 'longdress_vox10_1169.ply', 'longdress_vox10_1214.ply', 'longdress_vox10_1262.ply', 'longdress_vox10_1112.ply', 'longdress_vox10_1087.ply', 'longdress_vox10_1238.ply', 'longdress_vox10_1089.ply', 'longdress_vox10_1264.ply', 'longdress_vox10_1216.ply', 'longdress_vox10_1104.ply', 'longdress_vox10_1208.ply', 'longdress_vox10_1108.ply', 'longdress_vox10_1305.ply', 'longdress_vox10_1343.ply', 'longdress_vox10_1136.ply', 'longdress_vox10_1200.ply', 'longdress_vox10_1276.ply', 'longdress_vox10_1185.ply', 'longdress_vox10_1195.ply', 'longdress_vox10_1172.ply', 'longdress_vox10_1221.ply', 'longdress_vox10_1193.ply', 'longdress_vox10_1181.ply', 'longdress_vox10_1129.ply', 'longdress_vox10_1188.ply', 'longdress_vox10_1329.ply', 'longdress_vox10_1134.ply', 'longdress_vox10_1281.ply', 'longdress_vox10_1187.ply', 'longdress_vox10_1075.ply', 'longdress_vox10_1324.ply', 'longdress_vox10_1105.ply', 'longdress_vox10_1100.ply', 'longdress_vox10_1224.ply', 'longdress_vox10_1272.ply', 'longdress_vox10_1291.ply', 'longdress_vox10_1173.ply', 'longdress_vox10_1099.ply', 'longdress_vox10_1280.ply', 'longdress_vox10_1074.ply', 'longdress_vox10_1118.ply', 'longdress_vox10_1327.ply', 'longdress_vox10_1085.ply', 'longdress_vox10_1113.ply', 'longdress_vox10_1223.ply', 'longdress_vox10_1096.ply', 'longdress_vox10_1145.ply', 'longdress_vox10_1151.ply', 'longdress_vox10_1141.ply', 'longdress_vox10_1128.ply', 'longdress_vox10_1317.ply', 'longdress_vox10_1218.ply', 'longdress_vox10_1059.ply', 'longdress_vox10_1318.ply', 'longdress_vox10_1346.ply', 'longdress_vox10_1254.ply', 'longdress_vox10_1130.ply', 'longdress_vox10_1167.ply', 'longdress_vox10_1237.ply', 'longdress_vox10_1336.ply', 'longdress_vox10_1283.ply', 'longdress_vox10_1150.ply', 'longdress_vox10_1116.ply', 'longdress_vox10_1164.ply', 'longdress_vox10_1243.ply', 'longdress_vox10_1297.ply', 'longdress_vox10_1098.ply', 'longdress_vox10_1328.ply', 'longdress_vox10_1226.ply', 'longdress_vox10_1106.ply', 'longdress_vox10_1148.ply', 'longdress_vox10_1309.ply', 'longdress_vox10_1060.ply', 'longdress_vox10_1066.ply', 'longdress_vox10_1252.ply', 'longdress_vox10_1080.ply', 'longdress_vox10_1144.ply', 'longdress_vox10_1337.ply', 'longdress_vox10_1124.ply', 'longdress_vox10_1288.ply', 'longdress_vox10_1079.ply', 'longdress_vox10_1062.ply', 'longdress_vox10_1056.ply', 'longdress_vox10_1133.ply', 'longdress_vox10_1308.ply', 'longdress_vox10_1052.ply', 'longdress_vox10_1057.ply', 'longdress_vox10_1143.ply', 'longdress_vox10_1330.ply', 'longdress_vox10_1240.ply', 'longdress_vox10_1135.ply', 'longdress_vox10_1225.ply', 'longdress_vox10_1212.ply', 'longdress_vox10_1175.ply', 'longdress_vox10_1311.ply', 'longdress_vox10_1078.ply', 'longdress_vox10_1162.ply', 'longdress_vox10_1312.ply', 'longdress_vox10_1316.ply', 'longdress_vox10_1067.ply', 'longdress_vox10_1179.ply', 'longdress_vox10_1146.ply', 'longdress_vox10_1251.ply', 'longdress_vox10_1165.ply', 'longdress_vox10_1295.ply', 'longdress_vox10_1209.ply', 'longdress_vox10_1319.ply', 'longdress_vox10_1161.ply', 'longdress_vox10_1325.ply', 'longdress_vox10_1154.ply', 'longdress_vox10_1232.ply', 'longdress_vox10_1153.ply', 'longdress_vox10_1279.ply', 'longdress_vox10_1321.ply', 'longdress_vox10_1244.ply', 'longdress_vox10_1204.ply', 'longdress_vox10_1267.ply', 'longdress_vox10_1300.ply', 'longdress_vox10_1115.ply', 'longdress_vox10_1053.ply', 'longdress_vox10_1257.ply', 'longdress_vox10_1110.ply', 'longdress_vox10_1259.ply', 'longdress_vox10_1054.ply', 'longdress_vox10_1307.ply', 'longdress_vox10_1287.ply', 'longdress_vox10_1178.ply', 'longdress_vox10_1322.ply', 'longdress_vox10_1160.ply', 'longdress_vox10_1121.ply', 'longdress_vox10_1263.ply', 'longdress_vox10_1186.ply', 'longdress_vox10_1335.ply', 'longdress_vox10_1338.ply', 'longdress_vox10_1332.ply', 'longdress_vox10_1101.ply', 'longdress_vox10_1139.ply', 'longdress_vox10_1344.ply', 'longdress_vox10_1313.ply', 'longdress_vox10_1109.ply', 'longdress_vox10_1296.ply', 'longdress_vox10_1205.ply', 'longdress_vox10_1123.ply', 'longdress_vox10_1306.ply', 'longdress_vox10_1258.ply', 'longdress_vox10_1201.ply', 'longdress_vox10_1210.ply', 'longdress_vox10_1275.ply', 'longdress_vox10_1265.ply', 'longdress_vox10_1152.ply', 'longdress_vox10_1231.ply', 'longdress_vox10_1184.ply', 'longdress_vox10_1249.ply', 'longdress_vox10_1217.ply', 'longdress_vox10_1140.ply', 'longdress_vox10_1177.ply', 'longdress_vox10_1248.ply', 'longdress_vox10_1182.ply', 'longdress_vox10_1180.ply', 'longdress_vox10_1268.ply', 'longdress_vox10_1120.ply', 'longdress_vox10_1320.ply', 'longdress_vox10_1215.ply', 'longdress_vox10_1183.ply', 'longdress_vox10_1194.ply', 'longdress_vox10_1189.ply', 'longdress_vox10_1349.ply', 'longdress_vox10_1127.ply', 'longdress_vox10_1176.ply', 'longdress_vox10_1261.ply', 'longdress_vox10_1207.ply', 'longdress_vox10_1350.ply', 'longdress_vox10_1190.ply', 'longdress_vox10_1241.ply', 'longdress_vox10_1285.ply', 'longdress_vox10_1069.ply', 'longdress_vox10_1103.ply', 'longdress_vox10_1155.ply', 'longdress_vox10_1073.ply', 'longdress_vox10_1196.ply', 'longdress_vox10_1323.ply', 'longdress_vox10_1266.ply', 'longdress_vox10_1142.ply', 'longdress_vox10_1314.ply', 'longdress_vox10_1081.ply', 'longdress_vox10_1333.ply', 'longdress_vox10_1227.ply', 'longdress_vox10_1191.ply', 'longdress_vox10_1246.ply', 'longdress_vox10_1192.ply', 'longdress_vox10_1159.ply', 'longdress_vox10_1119.ply', 'longdress_vox10_1219.ply', 'longdress_vox10_1242.ply', 'longdress_vox10_1341.ply', 'longdress_vox10_1084.ply', 'longdress_vox10_1334.ply', 'longdress_vox10_1126.ply', 'longdress_vox10_1091.ply', 'longdress_vox10_1137.ply', 'longdress_vox10_1339.ply', 'longdress_vox10_1340.ply', 'longdress_vox10_1058.ply', 'longdress_vox10_1294.ply', 'longdress_vox10_1290.ply', 'longdress_vox10_1107.ply', 'longdress_vox10_1315.ply', 'longdress_vox10_1202.ply', 'longdress_vox10_1203.ply', 'longdress_vox10_1082.ply', 'longdress_vox10_1171.ply', 'longdress_vox10_1310.ply', 'longdress_vox10_1245.ply', 'longdress_vox10_1174.ply', 'longdress_vox10_1170.ply', 'longdress_vox10_1168.ply', 'longdress_vox10_1228.ply', 'longdress_vox10_1072.ply', 'longdress_vox10_1158.ply', 'longdress_vox10_1229.ply', 'longdress_vox10_1213.ply', 'longdress_vox10_1286.ply', 'longdress_vox10_1260.ply', 'longdress_vox10_1274.ply', 'longdress_vox10_1220.ply', 'longdress_vox10_1211.ply', 'longdress_vox10_1347.ply', 'longdress_vox10_1348.ply', 'longdress_vox10_1068.ply', 'longdress_vox10_1149.ply', 'longdress_vox10_1092.ply', 'longdress_vox10_1055.ply', 'longdress_vox10_1256.ply', 'longdress_vox10_1239.ply', 'longdress_vox10_1282.ply', 'longdress_vox10_1157.ply', 'longdress_vox10_1051.ply', 'longdress_vox10_1197.ply', 'longdress_vox10_1273.ply', 'longdress_vox10_1125.ply', 'longdress_vox10_1301.ply', 'longdress_vox10_1278.ply', 'longdress_vox10_1345.ply', 'longdress_vox10_1235.ply', 'longdress_vox10_1271.ply', 'longdress_vox10_1122.ply', 'longdress_vox10_1064.ply', 'longdress_vox10_1253.ply', 'longdress_vox10_1247.ply', 'longdress_vox10_1342.ply', 'longdress_vox10_1304.ply', 'longdress_vox10_1233.ply', 'longdress_vox10_1236.ply', 'longdress_vox10_1132.ply', 'longdress_vox10_1061.ply', 'longdress_vox10_1250.ply', 'longdress_vox10_1277.ply', 'longdress_vox10_1163.ply', 'longdress_vox10_1071.ply', 'longdress_vox10_1269.ply', 'longdress_vox10_1076.ply', 'longdress_vox10_1093.ply', 'longdress_vox10_1114.ply', 'longdress_vox10_1094.ply', 'longdress_vox10_1299.ply', 'longdress_vox10_1255.ply', 'longdress_vox10_1095.ply', 'longdress_vox10_1302.ply', 'longdress_vox10_1222.ply', 'longdress_vox10_1166.ply', 'longdress_vox10_1077.ply', 'longdress_vox10_1289.ply', 'longdress_vox10_1206.ply', 'longdress_vox10_1147.ply', 'longdress_vox10_1065.ply'])\n"
     ]
    }
   ],
   "source": [
    "for p in os.walk(os.path.join(dataset_path, 'longdress', 'Ply')):\n",
    "    print(p)"
   ]
  },
  {
   "cell_type": "code",
   "execution_count": null,
   "metadata": {},
   "outputs": [],
   "source": []
  }
 ],
 "metadata": {
  "kernelspec": {
   "display_name": "rei",
   "language": "python",
   "name": "rei"
  },
  "language_info": {
   "codemirror_mode": {
    "name": "ipython",
    "version": 3
   },
   "file_extension": ".py",
   "mimetype": "text/x-python",
   "name": "python",
   "nbconvert_exporter": "python",
   "pygments_lexer": "ipython3",
   "version": "3.7.9"
  }
 },
 "nbformat": 4,
 "nbformat_minor": 4
}
