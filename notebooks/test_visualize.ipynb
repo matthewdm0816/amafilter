{
 "cells": [
  {
   "cell_type": "code",
   "execution_count": null,
   "metadata": {},
   "outputs": [],
   "source": [
    "import pptk\n",
    "import numpy as np\n",
    "import torch\n",
    "import matplotlib.pyplot as plt\n",
    "from mpl_toolkits.mplot3d import Axes3D"
   ]
  },
  {
   "cell_type": "markdown",
   "metadata": {},
   "source": [
    "# 1. Test on Random Data"
   ]
  },
  {
   "cell_type": "code",
   "execution_count": null,
   "metadata": {},
   "outputs": [],
   "source": [
    "points=torch.randn([1000, 3]).numpy()\n",
    "color = torch.randn([1000, 3])\n",
    "color = color - color.min()\n",
    "print(color.min(), color.max())\n",
    "color = color / color.max() / 1.001\n",
    "color = color.numpy()\n",
    "color.max()"
   ]
  },
  {
   "cell_type": "code",
   "execution_count": null,
   "metadata": {},
   "outputs": [],
   "source": [
    "skip = 1  # Skip every n points\n",
    "\n",
    "fig = plt.figure(figsize=(20, 20))\n",
    "ax = fig.add_subplot(111, projection='3d')\n",
    "point_range = range(0, points.shape[0], skip) # skip points to prevent crash\n",
    "ax.scatter(points[point_range, 0],   # x\n",
    "           points[point_range, 1],   # y\n",
    "           points[point_range, 2],   # z\n",
    "           facecolors=color, # height data for color\n",
    "           cmap='Spectral',\n",
    "           marker=\"o\")\n",
    "ax.set_xlabel('x')\n",
    "ax.set_ylabel('y')\n",
    "ax.set_zlabel('z')\n",
    "ax.axis('auto')  # {equal, scaled}\n",
    "ax.view_init(15, 15)\n",
    "plt.show()"
   ]
  },
  {
   "cell_type": "markdown",
   "metadata": {},
   "source": [
    "# 2. Read & Render Local Mesh"
   ]
  },
  {
   "cell_type": "code",
   "execution_count": null,
   "metadata": {},
   "outputs": [],
   "source": [
    "ply_path=\"/data/pkurei/mpeg/dataset/longdress/Ply/longdress_vox10_1051.ply\""
   ]
  },
  {
   "cell_type": "code",
   "execution_count": null,
   "metadata": {},
   "outputs": [],
   "source": [
    "import sys, os, inspect\n",
    "currentdir = os.path.dirname(os.path.abspath(inspect.getfile(inspect.currentframe())))\n",
    "parentdir = os.path.dirname(currentdir)\n",
    "sys.path.insert(0, parentdir)"
   ]
  },
  {
   "cell_type": "code",
   "execution_count": null,
   "metadata": {},
   "outputs": [],
   "source": [
    "from mpeg_process import read_mesh"
   ]
  },
  {
   "cell_type": "code",
   "execution_count": null,
   "metadata": {},
   "outputs": [],
   "source": [
    "mesh = read_mesh(ply_path)"
   ]
  },
  {
   "cell_type": "code",
   "execution_count": null,
   "metadata": {},
   "outputs": [],
   "source": [
    "color, pos = mesh.color.numpy(), mesh.pos.numpy()"
   ]
  },
  {
   "cell_type": "code",
   "execution_count": null,
   "metadata": {},
   "outputs": [],
   "source": [
    "from mpl_toolkits.mplot3d import proj3d\n",
    "import matplotlib as mpl\n",
    "#Make sure these are floating point values:                                                                                                                                                                                              \n",
    "x_scale = pos[:, 0].max()\n",
    "y_scale = pos[:, 1].max()\n",
    "z_scale = pos[:, 2].max()\n",
    "\n",
    "scale=np.diag([x_scale, y_scale, z_scale, 1.0])\n",
    "scale=scale*(1.0/scale.max())\n",
    "scale[3,3]=1.0\n",
    "print(scale)\n",
    "\n",
    "mpl.rcParams['legend.fontsize'] = 10\n",
    "\n",
    "def get_subplot_proj(ax):\n",
    "    def short_proj():\n",
    "        return np.dot(Axes3D.get_proj(ax), scale)\n",
    "\n",
    "    return short_proj"
   ]
  },
  {
   "cell_type": "code",
   "execution_count": null,
   "metadata": {},
   "outputs": [],
   "source": [
    "cm = 1/2.54\n",
    "fig = plt.figure(figsize=(120 * cm, 60 * cm))\n",
    "# fig.subplots_adjust(bottom=-0.15,top=1.2, left=0.1, right=0.1)\n",
    "fig.subplots_adjust(bottom=-0.2,top=1.2, left=-0.2, right=1.2)\n",
    "ax = fig.add_subplot(121, projection='3d')\n",
    "\n",
    "ax.set_xlabel('x')\n",
    "ax.set_ylabel('y')\n",
    "ax.set_zlabel('z')\n",
    "# ax.set_title('Sample Point Cloud')\n",
    "\n",
    "\n",
    "\n",
    "ax.get_proj=get_subplot_proj(ax)\n",
    "ax.scatter(pos[:,0],   # x\n",
    "           pos[:,1],   # y\n",
    "           pos[:,2],   # z\n",
    "           facecolors=color/255., s=0.1# height data for color\n",
    "          )\n",
    "ax.view_init(90, -90)\n",
    "ax = fig.add_subplot(122, projection='3d')\n",
    "\n",
    "ax.set_xlabel('x')\n",
    "ax.set_ylabel('y')\n",
    "ax.set_zlabel('z')\n",
    "\n",
    "\n",
    "ax.get_proj=get_subplot_proj(ax)\n",
    "ax.scatter(pos[:,0],   # x\n",
    "           pos[:,1],   # y\n",
    "           pos[:,2],   # z\n",
    "           facecolors=color/255., s=0.1# height data for color\n",
    "          )\n",
    "ax.view_init(90, -90)\n",
    "plt.show()\n",
    "fig.savefig('test.png', dpi=300)"
   ]
  },
  {
   "cell_type": "markdown",
   "metadata": {},
   "source": [
    "# 3. Test Trained Model"
   ]
  },
  {
   "cell_type": "code",
   "execution_count": null,
   "metadata": {},
   "outputs": [],
   "source": [
    "%load_ext autoreload\n",
    "%autoreload\n",
    "from visualize import get_subplot_proj, visualize\n",
    "from utils import load_model, get_model, process_whole\n",
    "from bf import BilateralFilterv2\n",
    "from dataloader import normal_noise\n",
    "import torch\n",
    "import torch_geometric as tgnn\n",
    "import pretty_errors\n",
    "# import importlib\n",
    "# importlib.reload('utils')"
   ]
  },
  {
   "cell_type": "code",
   "execution_count": null,
   "metadata": {},
   "outputs": [],
   "source": [
    "parallel=False\n",
    "model = get_model(\n",
    "    dataset_type='MPEG',\n",
    "    bfilter=BilateralFilterv2,\n",
    "    batch_size=24,\n",
    "    device=torch.device('cpu'),\n",
    "    parallel=parallel,\n",
    "    reg=0.0,\n",
    "    loss_type='mse'\n",
    ")"
   ]
  },
  {
   "cell_type": "code",
   "execution_count": null,
   "metadata": {},
   "outputs": [],
   "source": [
    "load_model(\n",
    "    model=model.module if parallel else model,\n",
    "    optimizer=None,\n",
    "    f='../model/mpeg-bf-10.0v3sgd+reg+act/271/model-latest.save',\n",
    "    optim=None,\n",
    "    e=0,\n",
    "    evaluate=None,\n",
    ")"
   ]
  },
  {
   "cell_type": "code",
   "execution_count": null,
   "metadata": {},
   "outputs": [],
   "source": [
    "reconstructed, noisy, mesh, mse_error = process_whole(\n",
    "    model,\n",
    "    ply_path,\n",
    "    noise_generator=normal_noise,\n",
    "    sigma=10.0,\n",
    "    batch_size=24,\n",
    ")"
   ]
  },
  {
   "cell_type": "code",
   "execution_count": null,
   "metadata": {},
   "outputs": [],
   "source": []
  }
 ],
 "metadata": {
  "celltoolbar": "Raw Cell Format",
  "kernelspec": {
   "display_name": "rei",
   "language": "python",
   "name": "rei"
  },
  "language_info": {
   "codemirror_mode": {
    "name": "ipython",
    "version": 3
   },
   "file_extension": ".py",
   "mimetype": "text/x-python",
   "name": "python",
   "nbconvert_exporter": "python",
   "pygments_lexer": "ipython3",
   "version": "3.7.9"
  }
 },
 "nbformat": 4,
 "nbformat_minor": 4
}
